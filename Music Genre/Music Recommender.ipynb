{
 "cells": [
  {
   "cell_type": "code",
   "execution_count": 38,
   "metadata": {
    "scrolled": true
   },
   "outputs": [],
   "source": [
    "import pandas as pd\n",
    "from sklearn.tree import DecisionTreeClassifier\n",
    "import joblib\n",
    "from sklearn import tree"
   ]
  },
  {
   "cell_type": "code",
   "execution_count": 39,
   "metadata": {},
   "outputs": [
    {
     "data": {
      "text/plain": [
       "['music-recommender.joblib']"
      ]
     },
     "execution_count": 39,
     "metadata": {},
     "output_type": "execute_result"
    }
   ],
   "source": [
    "music_data = pd.read_csv('music.csv')\n",
    "\n",
    "X = music_data.drop(columns = ['genre'])\n",
    "Y = music_data['genre']\n",
    "\n",
    "model = DecisionTreeClassifier()\n",
    "model.fit(X, Y)\n",
    "\n",
    "joblib.dump(model, 'music-recommender.joblib')"
   ]
  },
  {
   "cell_type": "code",
   "execution_count": 40,
   "metadata": {},
   "outputs": [
    {
     "data": {
      "text/plain": [
       "0.75"
      ]
     },
     "execution_count": 40,
     "metadata": {},
     "output_type": "execute_result"
    }
   ],
   "source": [
    "from sklearn.model_selection import train_test_split\n",
    "from sklearn.metrics import accuracy_score\n",
    "x_train, x_test, y_train, y_test = train_test_split(X, Y, test_size=0.2)\n",
    "model = DecisionTreeClassifier()\n",
    "model.fit(x_train, y_train)\n",
    "predictions = model.predict(x_test)\n",
    "\n",
    "score = accuracy_score(y_test, predictions)\n",
    "score"
   ]
  },
  {
   "cell_type": "code",
   "execution_count": 41,
   "metadata": {},
   "outputs": [],
   "source": [
    "tree.export_graphviz(model, out_file= 'music-recommender.dot',\n",
    "                    feature_names= ['age', 'gender'],\n",
    "                    class_names= sorted(Y.unique()),\n",
    "                    label= 'all',\n",
    "                    rounded= True,\n",
    "                    filled= True)"
   ]
  },
  {
   "cell_type": "code",
   "execution_count": 42,
   "metadata": {},
   "outputs": [
    {
     "name": "stdout",
     "output_type": "stream",
     "text": [
      "Enter the Age: 22\n",
      "Enter the Gender (M/F): M\n"
     ]
    }
   ],
   "source": [
    "age = input(\"Enter the Age: \")\n",
    "g = input(\"Enter the Gender (M/F): \")\n",
    "gender = -1\n",
    "if g == 'M':\n",
    "    gender = 1\n",
    "elif g == 'F':\n",
    "    gender = 0\n",
    "else:\n",
    "    print(\"Wrong input in gender\")\n",
    "    \n",
    "while gender == -1 :\n",
    "    g = input(\"Enter the Gender (M/F): \")\n",
    "    gender = -1\n",
    "    if g == 'M':\n",
    "        gender = 1\n",
    "    elif g == 'F':\n",
    "        gender = 0\n",
    "    else:\n",
    "        print(\"Wrong input in gender\")"
   ]
  },
  {
   "cell_type": "code",
   "execution_count": 43,
   "metadata": {
    "scrolled": true
   },
   "outputs": [
    {
     "data": {
      "text/plain": [
       "'HipHop'"
      ]
     },
     "execution_count": 43,
     "metadata": {},
     "output_type": "execute_result"
    }
   ],
   "source": [
    "model = joblib.load('music-recommender.joblib')\n",
    "predictions = model.predict([(age,gender)])\n",
    "predictions[0]"
   ]
  },
  {
   "cell_type": "code",
   "execution_count": 44,
   "metadata": {
    "scrolled": true
   },
   "outputs": [
    {
     "name": "stdout",
     "output_type": "stream",
     "text": [
      "Do you want some recommendation about songs you might like (Y/N): Y\n"
     ]
    }
   ],
   "source": [
    "song_recommendor = input(\"Do you want some recommendation about songs you might like (Y/N): \")\n",
    "if song_recommendor == 'Y' :\n",
    "    songs_data = pd.read_csv('songs_new.csv')\n",
    "    songs_comb = songs_data.loc[songs_data.genre == predictions[0]]\n",
    "    songs_comb.sort_values('title', ascending = True)\n",
    "    songs_comb\n",
    "elif song_recommendor == 'N' :\n",
    "    pass\n",
    "else :\n",
    "    print(\"Wrong input. Enter in 'Y' or 'N.'\")\n",
    "    \n",
    "while song_recommendor != 'Y' and song_recommendor != 'N':\n",
    "    song_recommendor = input(\"Do you want some recommendation about songs you might like (Y/N): \")\n",
    "    if song_recommendor == 'Y' :\n",
    "        songs_data = pd.read_csv('songs_new.csv')\n",
    "        songs_comb = songs_data.loc[songs_data.genre == predictions[0]]\n",
    "        songs_comb.sort_values('title', ascending = True)\n",
    "        songs_comb\n",
    "    elif song_recommendor == 'N' :\n",
    "        pass\n",
    "    else :\n",
    "        print(\"Wrong input. Enter in 'Y' or 'N.'\")"
   ]
  }
 ],
 "metadata": {
  "kernelspec": {
   "display_name": "Python 3",
   "language": "python",
   "name": "python3"
  },
  "language_info": {
   "codemirror_mode": {
    "name": "ipython",
    "version": 3
   },
   "file_extension": ".py",
   "mimetype": "text/x-python",
   "name": "python",
   "nbconvert_exporter": "python",
   "pygments_lexer": "ipython3",
   "version": "3.8.5"
  }
 },
 "nbformat": 4,
 "nbformat_minor": 4
}
